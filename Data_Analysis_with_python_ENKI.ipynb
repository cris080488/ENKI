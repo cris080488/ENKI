{
  "nbformat": 4,
  "nbformat_minor": 0,
  "metadata": {
    "colab": {
      "name": "Data Analysis with python - ENKI",
      "provenance": [],
      "authorship_tag": "ABX9TyPQDvKtnTR+NFOlF09h3Iwu",
      "include_colab_link": true
    },
    "kernelspec": {
      "name": "python3",
      "display_name": "Python 3"
    },
    "language_info": {
      "name": "python"
    }
  },
  "cells": [
    {
      "cell_type": "markdown",
      "metadata": {
        "id": "view-in-github",
        "colab_type": "text"
      },
      "source": [
        "<a href=\"https://colab.research.google.com/github/cris080488/ENKI/blob/main/Data_Analysis_with_python_ENKI.ipynb\" target=\"_parent\"><img src=\"https://colab.research.google.com/assets/colab-badge.svg\" alt=\"Open In Colab\"/></a>"
      ]
    },
    {
      "cell_type": "markdown",
      "metadata": {
        "id": "6xQNhg-K5qmq"
      },
      "source": [
        "Preparing a Dataset\n"
      ]
    },
    {
      "cell_type": "code",
      "metadata": {
        "id": "VOMYRgvM59am"
      },
      "source": [
        "import pandas as pd\n",
        "import matplotlib.pyplot as plt\n"
      ],
      "execution_count": 21,
      "outputs": []
    },
    {
      "cell_type": "markdown",
      "metadata": {
        "id": "bkoFn5Tk7DrA"
      },
      "source": [
        "Creating a dataframe from Series"
      ]
    },
    {
      "cell_type": "code",
      "metadata": {
        "id": "yImL69ih5vgH"
      },
      "source": [
        "firstSeries = pd.Series([21,24,23])\n",
        "secondSeries = pd.Series([\"Stephan\", \"Marcus\", \"Emma\"])\n",
        "\n",
        "f = {\"Name\":secondSeries, \"Age\":firstSreies}\n",
        "\n",
        "df = pd.DataFrame(f)"
      ],
      "execution_count": 4,
      "outputs": []
    },
    {
      "cell_type": "markdown",
      "metadata": {
        "id": "kFH9nGrU7hT3"
      },
      "source": [
        "Creating a dataframe from csv file"
      ]
    },
    {
      "cell_type": "code",
      "metadata": {
        "id": "-iorZCYF7XHU"
      },
      "source": [
        "importedRawData = pd.read_csv('netflix_titles.csv')"
      ],
      "execution_count": 5,
      "outputs": []
    },
    {
      "cell_type": "markdown",
      "metadata": {
        "id": "-FOS2Pnf-Hcv"
      },
      "source": [
        "### Operations with dataframes"
      ]
    },
    {
      "cell_type": "markdown",
      "metadata": {
        "id": "ggZP9iIg-MgJ"
      },
      "source": [
        "Showing head and tail rows"
      ]
    },
    {
      "cell_type": "code",
      "metadata": {
        "id": "7u6JqvKQ8-RZ"
      },
      "source": [
        "importedRawData.head(3)\n"
      ],
      "execution_count": null,
      "outputs": []
    },
    {
      "cell_type": "code",
      "metadata": {
        "id": "jA-AjoMa9B9R"
      },
      "source": [
        "importedRawData.tail(2)"
      ],
      "execution_count": null,
      "outputs": []
    },
    {
      "cell_type": "markdown",
      "metadata": {
        "id": "47DsYRxE-e9g"
      },
      "source": [
        "The total amount null rows"
      ]
    },
    {
      "cell_type": "code",
      "metadata": {
        "id": "AlYi0aW09YAT"
      },
      "source": [
        "importedRawData.isnull().sum()"
      ],
      "execution_count": null,
      "outputs": []
    },
    {
      "cell_type": "markdown",
      "metadata": {
        "id": "_-lbTcs9-1D6"
      },
      "source": [
        "Droping columns of the dataframe"
      ]
    },
    {
      "cell_type": "code",
      "metadata": {
        "id": "RWPR53C69jNQ"
      },
      "source": [
        "importedData = importedRawData.drop( columns=[\"show_id\", \"description\", \"country\", \"date_added\", \"director\"])"
      ],
      "execution_count": 18,
      "outputs": []
    },
    {
      "cell_type": "markdown",
      "metadata": {
        "id": "tCvivbfz_FUa"
      },
      "source": [
        "Using loc function"
      ]
    },
    {
      "cell_type": "code",
      "metadata": {
        "id": "ft0QmhB794Ks"
      },
      "source": [
        "netflix_movies = importedData.loc[importedData['type'] == 'Movie']\n",
        "netflix_series = importedData.loc[importedData['type'] == 'TV Show']"
      ],
      "execution_count": 19,
      "outputs": []
    },
    {
      "cell_type": "code",
      "metadata": {
        "id": "MyWmB5ygAKnF"
      },
      "source": [
        "print(netflix_movies.count())\n",
        "print(netflix_series.count())"
      ],
      "execution_count": null,
      "outputs": []
    },
    {
      "cell_type": "markdown",
      "metadata": {
        "id": "k4JLnGn3A2A9"
      },
      "source": [
        "Plot a chart with matplotlib"
      ]
    },
    {
      "cell_type": "code",
      "metadata": {
        "id": "j53FYj4SATyK"
      },
      "source": [
        "plt.pie([4265,1969])\n",
        "plt.show()"
      ],
      "execution_count": null,
      "outputs": []
    },
    {
      "cell_type": "code",
      "metadata": {
        "id": "OWekQC2zA78g"
      },
      "source": [
        "plt.pie([netflix_movies.type.count(),\n",
        "        netflix_series.type.count()\n",
        "])\n",
        "\n",
        "plt.show()"
      ],
      "execution_count": null,
      "outputs": []
    },
    {
      "cell_type": "markdown",
      "metadata": {
        "id": "49zmpm86Bf5g"
      },
      "source": [
        "Plot labels and titles and formating them"
      ]
    },
    {
      "cell_type": "code",
      "metadata": {
        "id": "41e3ajVXA-Pe"
      },
      "source": [
        "plt.pie([4265,1969],\n",
        "        labels=['Movies', 'TV Shows'],\n",
        "        textprops={'color':\"black\"},\n",
        "        autopct='%.2f',\n",
        "        explode=(0,0.1))\n",
        "\n",
        "plt.title('Movies vs TV in %',\n",
        "          color=\"blue\")\n",
        "plt.show()"
      ],
      "execution_count": null,
      "outputs": []
    },
    {
      "cell_type": "markdown",
      "metadata": {
        "id": "j3HTlt-8CciU"
      },
      "source": [
        "count values"
      ]
    },
    {
      "cell_type": "code",
      "metadata": {
        "id": "77lhrLLlB52M"
      },
      "source": [
        "movies_ratings = netflix_movies.value_counts('rating')"
      ],
      "execution_count": 39,
      "outputs": []
    },
    {
      "cell_type": "markdown",
      "metadata": {
        "id": "DM4Mhur9Ddfp"
      },
      "source": [
        "another ways to count values"
      ]
    },
    {
      "cell_type": "code",
      "metadata": {
        "id": "Wd9-jfWRCYhE"
      },
      "source": [
        "netflix_movies.rating.value_counts()"
      ],
      "execution_count": null,
      "outputs": []
    },
    {
      "cell_type": "code",
      "metadata": {
        "id": "j3QycAKHDwr-"
      },
      "source": [
        "ratingTVY = netflix_movies.loc[netflix_movies['rating'] == 'TV-Y'].count()"
      ],
      "execution_count": 35,
      "outputs": []
    },
    {
      "cell_type": "markdown",
      "metadata": {
        "id": "4nwMPaqjEV3U"
      },
      "source": [
        "Plot chart bars"
      ]
    },
    {
      "cell_type": "code",
      "metadata": {
        "colab": {
          "base_uri": "https://localhost:8080/",
          "height": 306
        },
        "id": "0N6H1unZEI8E",
        "outputId": "824f3e95-007e-4855-c2bf-7be818194371"
      },
      "source": [
        "movies_ratings.plot(kind='bar')\n",
        "plt.xticks(rotation = 45)\n",
        "plt.show()"
      ],
      "execution_count": 41,
      "outputs": [
        {
          "output_type": "display_data",
          "data": {
            "image/png": "[encoded data removed]",
            "text/plain": [
              "<Figure size 432x288 with 1 Axes>"
            ]
          },
          "metadata": {
            "tags": [],
            "needs_background": "light"
          }
        }
      ]
    },
    {
      "cell_type": "markdown",
      "metadata": {
        "id": "-yYreSkeGeg2"
      },
      "source": [
        ""
      ]
    },
    {
      "cell_type": "code",
      "metadata": {
        "id": "N4f6-4cFE00g"
      },
      "source": [
        "df2 = pd.DataFrame(\n",
        "    {\n",
        "        'col1':['A', 'A', 'A', 'B'],\n",
        "        'col2':[1,2,3,4]\n",
        "    }\n",
        ")"
      ],
      "execution_count": 51,
      "outputs": []
    },
    {
      "cell_type": "markdown",
      "metadata": {
        "id": "r-RUJdclGiBT"
      },
      "source": [
        "Grouping a dataframe"
      ]
    },
    {
      "cell_type": "code",
      "metadata": {
        "id": "V1mUYi6fGa3E"
      },
      "source": [
        "df2 = df2.groupby(\"col1\").size()"
      ],
      "execution_count": 54,
      "outputs": []
    },
    {
      "cell_type": "code",
      "metadata": {
        "id": "goIOoftuGrWk"
      },
      "source": [
        "df2.to_frame(name=\"sum\")"
      ],
      "execution_count": null,
      "outputs": []
    },
    {
      "cell_type": "code",
      "metadata": {
        "id": "utJLvF2zG1gJ"
      },
      "source": [
        "df2.reset_index(name='blah')"
      ],
      "execution_count": null,
      "outputs": []
    },
    {
      "cell_type": "markdown",
      "metadata": {
        "id": "JwmOUmO7Q0RC"
      },
      "source": [
        "Grouping with to_frame and reset_index"
      ]
    },
    {
      "cell_type": "code",
      "metadata": {
        "colab": {
          "base_uri": "https://localhost:8080/",
          "height": 324
        },
        "id": "90c2ZVOsHQVf",
        "outputId": "9ede12c1-4fea-49f3-f835-9d4f6a9fd2ed"
      },
      "source": [
        "netflix_series\\\n",
        ".groupby('rating').size()\\\n",
        ".sort_values(ascending=False)\\\n",
        ".to_frame(\"Sum of TV Shows\")\\\n",
        ".reset_index('rating')\n"
      ],
      "execution_count": 74,
      "outputs": [
        {
          "output_type": "execute_result",
          "data": {
            "text/html": [
              "<div>\n",
              "<style scoped>\n",
              "    .dataframe tbody tr th:only-of-type {\n",
              "        vertical-align: middle;\n",
              "    }\n",
              "\n",
              "    .dataframe tbody tr th {\n",
              "        vertical-align: top;\n",
              "    }\n",
              "\n",
              "    .dataframe thead th {\n",
              "        text-align: right;\n",
              "    }\n",
              "</style>\n",
              "<table border=\"1\" class=\"dataframe\">\n",
              "  <thead>\n",
              "    <tr style=\"text-align: right;\">\n",
              "      <th></th>\n",
              "      <th>rating</th>\n",
              "      <th>Sum of TV Shows</th>\n",
              "    </tr>\n",
              "  </thead>\n",
              "  <tbody>\n",
              "    <tr>\n",
              "      <th>0</th>\n",
              "      <td>TV-MA</td>\n",
              "      <td>1018</td>\n",
              "    </tr>\n",
              "    <tr>\n",
              "      <th>1</th>\n",
              "      <td>TV-14</td>\n",
              "      <td>659</td>\n",
              "    </tr>\n",
              "    <tr>\n",
              "      <th>2</th>\n",
              "      <td>TV-PG</td>\n",
              "      <td>301</td>\n",
              "    </tr>\n",
              "    <tr>\n",
              "      <th>3</th>\n",
              "      <td>TV-Y7</td>\n",
              "      <td>176</td>\n",
              "    </tr>\n",
              "    <tr>\n",
              "      <th>4</th>\n",
              "      <td>TV-Y</td>\n",
              "      <td>163</td>\n",
              "    </tr>\n",
              "    <tr>\n",
              "      <th>5</th>\n",
              "      <td>TV-G</td>\n",
              "      <td>83</td>\n",
              "    </tr>\n",
              "    <tr>\n",
              "      <th>6</th>\n",
              "      <td>NR</td>\n",
              "      <td>5</td>\n",
              "    </tr>\n",
              "    <tr>\n",
              "      <th>7</th>\n",
              "      <td>R</td>\n",
              "      <td>2</td>\n",
              "    </tr>\n",
              "    <tr>\n",
              "      <th>8</th>\n",
              "      <td>TV-Y7-FV</td>\n",
              "      <td>1</td>\n",
              "    </tr>\n",
              "  </tbody>\n",
              "</table>\n",
              "</div>"
            ],
            "text/plain": [
              "     rating  Sum of TV Shows\n",
              "0     TV-MA             1018\n",
              "1     TV-14              659\n",
              "2     TV-PG              301\n",
              "3     TV-Y7              176\n",
              "4      TV-Y              163\n",
              "5      TV-G               83\n",
              "6        NR                5\n",
              "7         R                2\n",
              "8  TV-Y7-FV                1"
            ]
          },
          "metadata": {
            "tags": []
          },
          "execution_count": 74
        }
      ]
    },
    {
      "cell_type": "markdown",
      "metadata": {
        "id": "MPcLWLklQiho"
      },
      "source": [
        "Same way with one less step"
      ]
    },
    {
      "cell_type": "code",
      "metadata": {
        "colab": {
          "base_uri": "https://localhost:8080/",
          "height": 324
        },
        "id": "PUAVk0k8P5bz",
        "outputId": "6c5723cf-1b6e-4dda-c039-a8e6ceefb7be"
      },
      "source": [
        "netflix_series\\\n",
        ".groupby('rating').size()\\\n",
        ".sort_values(ascending=False)\\\n",
        ".reset_index(name=\"Sum of TV Shows\")"
      ],
      "execution_count": 75,
      "outputs": [
        {
          "output_type": "execute_result",
          "data": {
            "text/html": [
              "<div>\n",
              "<style scoped>\n",
              "    .dataframe tbody tr th:only-of-type {\n",
              "        vertical-align: middle;\n",
              "    }\n",
              "\n",
              "    .dataframe tbody tr th {\n",
              "        vertical-align: top;\n",
              "    }\n",
              "\n",
              "    .dataframe thead th {\n",
              "        text-align: right;\n",
              "    }\n",
              "</style>\n",
              "<table border=\"1\" class=\"dataframe\">\n",
              "  <thead>\n",
              "    <tr style=\"text-align: right;\">\n",
              "      <th></th>\n",
              "      <th>rating</th>\n",
              "      <th>Sum of TV Shows</th>\n",
              "    </tr>\n",
              "  </thead>\n",
              "  <tbody>\n",
              "    <tr>\n",
              "      <th>0</th>\n",
              "      <td>TV-MA</td>\n",
              "      <td>1018</td>\n",
              "    </tr>\n",
              "    <tr>\n",
              "      <th>1</th>\n",
              "      <td>TV-14</td>\n",
              "      <td>659</td>\n",
              "    </tr>\n",
              "    <tr>\n",
              "      <th>2</th>\n",
              "      <td>TV-PG</td>\n",
              "      <td>301</td>\n",
              "    </tr>\n",
              "    <tr>\n",
              "      <th>3</th>\n",
              "      <td>TV-Y7</td>\n",
              "      <td>176</td>\n",
              "    </tr>\n",
              "    <tr>\n",
              "      <th>4</th>\n",
              "      <td>TV-Y</td>\n",
              "      <td>163</td>\n",
              "    </tr>\n",
              "    <tr>\n",
              "      <th>5</th>\n",
              "      <td>TV-G</td>\n",
              "      <td>83</td>\n",
              "    </tr>\n",
              "    <tr>\n",
              "      <th>6</th>\n",
              "      <td>NR</td>\n",
              "      <td>5</td>\n",
              "    </tr>\n",
              "    <tr>\n",
              "      <th>7</th>\n",
              "      <td>R</td>\n",
              "      <td>2</td>\n",
              "    </tr>\n",
              "    <tr>\n",
              "      <th>8</th>\n",
              "      <td>TV-Y7-FV</td>\n",
              "      <td>1</td>\n",
              "    </tr>\n",
              "  </tbody>\n",
              "</table>\n",
              "</div>"
            ],
            "text/plain": [
              "     rating  Sum of TV Shows\n",
              "0     TV-MA             1018\n",
              "1     TV-14              659\n",
              "2     TV-PG              301\n",
              "3     TV-Y7              176\n",
              "4      TV-Y              163\n",
              "5      TV-G               83\n",
              "6        NR                5\n",
              "7         R                2\n",
              "8  TV-Y7-FV                1"
            ]
          },
          "metadata": {
            "tags": []
          },
          "execution_count": 75
        }
      ]
    },
    {
      "cell_type": "markdown",
      "metadata": {
        "id": "OHSv7iNIQ6eg"
      },
      "source": [
        ""
      ]
    },
    {
      "cell_type": "code",
      "metadata": {
        "id": "aTSFYi5TQXB6"
      },
      "source": [
        "shows_per_rating = netflix_series\\\n",
        ".groupby('rating').size()\\\n",
        ".sort_values(ascending=False)\\\n",
        ".reset_index(name=\"Sum of TV Shows\")"
      ],
      "execution_count": 76,
      "outputs": []
    },
    {
      "cell_type": "code",
      "metadata": {
        "colab": {
          "base_uri": "https://localhost:8080/",
          "height": 313
        },
        "id": "ewYeszK0RLAE",
        "outputId": "3fbe79af-664c-4fa8-9214-f8022e6ca8a8"
      },
      "source": [
        "shows_per_rating.plot(\n",
        "    x=\"rating\",\n",
        "    y=\"Sum of TV Shows\",\n",
        "    kind=\"bar\",\n",
        "    color=['red', 'green', 'blue']\n",
        ")\n",
        "\n",
        "plt.show()"
      ],
      "execution_count": 77,
      "outputs": [
        {
          "output_type": "display_data",
          "data": {
            "image/png": "[encoded data removed]",
            "text/plain": [
              "<Figure size 432x288 with 1 Axes>"
            ]
          },
          "metadata": {
            "tags": [],
            "needs_background": "light"
          }
        }
      ]
    },
    {
      "cell_type": "code",
      "metadata": {
        "id": "rssWkgvdRhMG"
      },
      "source": [
        "movies_by_released_year = netflix_series\\\n",
        ".groupby('release_year').size()\\\n",
        ".sort_values(ascending=False)\\\n",
        ".reset_index(name='movie_count')"
      ],
      "execution_count": 78,
      "outputs": []
    },
    {
      "cell_type": "code",
      "metadata": {
        "id": "4IkF1cGoSAGj"
      },
      "source": [
        "movies_before_1980 = movies_by_released_year[movies_by_released_year['release_year']<=1980] \n",
        "\n",
        "movies_between_1980_2000 = movies_by_released_year[(movies_by_released_year['release_year'] > 1980) & (movies_by_released_year['release_year'] < 2000)] \n",
        "\n",
        "movies_after_2000 = movies_by_released_year[movies_by_released_year['release_year'] >= 2000]"
      ],
      "execution_count": 79,
      "outputs": []
    },
    {
      "cell_type": "code",
      "metadata": {
        "id": "MbjK9YuBTFzS"
      },
      "source": [
        "after_2000 = movies_after_2000.sort_values('release_year', ascending=False)\n",
        "\n",
        "before_1979 = movies_before_1980.sort_values('release_year', ascending=False)\n",
        "\n",
        "between_1980_2000 = movies_between_1980_2000.sort_values('release_year', ascending=False)"
      ],
      "execution_count": 80,
      "outputs": []
    },
    {
      "cell_type": "code",
      "metadata": {
        "id": "4E1rQXm6T6-S"
      },
      "source": [
        "plt.plot(before_1979.release_year,\\\n",
        "         before_1979.movie_count,\\\n",
        "         label=\"Until 1979\",\\\n",
        "         linestyle='--',\\\n",
        "         marker='o',\\\n",
        "         color='g'\n",
        "         )\n",
        "\n",
        "plt.xlabel('Release Year')\n",
        "plt.ylabel('Count')\n",
        "plt.title('Movie VS TV Show count by release year')\n",
        "plt.legend()\n",
        "plt.show()"
      ],
      "execution_count": null,
      "outputs": []
    },
    {
      "cell_type": "code",
      "metadata": {
        "id": "-S9UJkbaU6NM"
      },
      "source": [
        ""
      ],
      "execution_count": null,
      "outputs": []
    }
  ]
}